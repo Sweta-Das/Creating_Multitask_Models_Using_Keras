{
  "nbformat": 4,
  "nbformat_minor": 0,
  "metadata": {
    "colab": {
      "provenance": [],
      "authorship_tag": "ABX9TyPkjU6kK0UI9UsXRYpb12xN",
      "include_colab_link": true
    },
    "kernelspec": {
      "name": "python3",
      "display_name": "Python 3"
    },
    "language_info": {
      "name": "python"
    }
  },
  "cells": [
    {
      "cell_type": "markdown",
      "metadata": {
        "id": "view-in-github",
        "colab_type": "text"
      },
      "source": [
        "<a href=\"https://colab.research.google.com/github/Sweta-Das/Creating_Multitask_Models_Using_Keras/blob/main/Creating_Multi_task_Models_using_Keras.ipynb\" target=\"_parent\"><img src=\"https://colab.research.google.com/assets/colab-badge.svg\" alt=\"Open In Colab\"/></a>"
      ]
    },
    {
      "cell_type": "markdown",
      "source": [
        "# Creating Multi-task Models using Keras\n"
      ],
      "metadata": {
        "id": "AGk6B8841iJy"
      }
    },
    {
      "cell_type": "code",
      "source": [
        "%matplotlib inline\n",
        "%load_ext tensorboard\n",
        "\n",
        "import tensorflow as tf\n",
        "import numpy as np\n",
        "import matplotlib.pyplot as plt\n",
        "import shutil # Shutil = Shell Utilities; Higher level file operations\n",
        "\n",
        "try:\n",
        "  shutil.rmtree('logs') \n",
        "  # deletes an entire directory tree; Syntax: shutil.rmtree(path, ignore_errors=False, onerror=None)\n",
        "  # Path points to a dir. If ignore_errors=True, errors due to failed removals will be ignored. If ignore_errors=False, errors are handled by handler specified\n",
        "  # by onerror, or if omitted, it raises an exception.\n",
        "except:\n",
        "  pass"
      ],
      "metadata": {
        "id": "undszboc1tgV"
      },
      "execution_count": null,
      "outputs": []
    },
    {
      "cell_type": "markdown",
      "source": [
        "Task - 1: Creating a dataset"
      ],
      "metadata": {
        "id": "mQNsot8J5Jse"
      }
    },
    {
      "cell_type": "code",
      "source": [
        "# Using Keras Dataset to download MNIST dataset\n",
        "(x_train, y_train), (x_test, y_test) = tf.keras.datasets.mnist.load_data()"
      ],
      "metadata": {
        "colab": {
          "base_uri": "https://localhost:8080/"
        },
        "id": "tYq4r2Po5PL5",
        "outputId": "98e810cf-2077-458c-c952-a7e5df5142db"
      },
      "execution_count": null,
      "outputs": [
        {
          "output_type": "stream",
          "name": "stdout",
          "text": [
            "Downloading data from https://storage.googleapis.com/tensorflow/tf-keras-datasets/mnist.npz\n",
            "11493376/11490434 [==============================] - 0s 0us/step\n",
            "11501568/11490434 [==============================] - 0s 0us/step\n"
          ]
        }
      ]
    },
    {
      "cell_type": "markdown",
      "source": [
        "We are not going to use MNIST dataset directly, we're going to synthesize new dataset from it."
      ],
      "metadata": {
        "id": "Xp4hlck_OQbI"
      }
    },
    {
      "cell_type": "code",
      "source": [
        "def create_example(x, y):  # here, x= image of mnist dataset; y=label of mnist dataset\n",
        "  c = np.random.randint(0, 2) # randomly either c = 0 or 1\n",
        "  image = 0.5 * np.random.rand(28, 28, 3) # for colored label, 28*28 = mnist dataset & 3 signify RGB color\n",
        "  image[:, :, c] += 0.5 * x / 255.  # This'll show mnist example value only for Red & Green color.\n",
        "  return image, y, c "
      ],
      "metadata": {
        "id": "py6mge8rOaMX"
      },
      "execution_count": null,
      "outputs": []
    },
    {
      "cell_type": "code",
      "source": [
        "# Dictionary to keep track of color labels\n",
        "colors = {0: 'red', 1: 'green'}\n",
        "\n",
        "x, y, c = create_example(x_train[4], y_train[8])\n",
        "print(f'digit: {y}, color: {colors[c]}') # displaying digit with its color\n",
        "\n",
        "plt.imshow(x)\n",
        "plt.show()"
      ],
      "metadata": {
        "colab": {
          "base_uri": "https://localhost:8080/",
          "height": 282
        },
        "id": "Ztjq6lbkOnlJ",
        "outputId": "9ee9ad0d-b7b2-4640-c5bd-3ed137a1adeb"
      },
      "execution_count": null,
      "outputs": [
        {
          "output_type": "stream",
          "name": "stdout",
          "text": [
            "digit: 1, color: red\n"
          ]
        },
        {
          "output_type": "display_data",
          "data": {
            "text/plain": [
              "<Figure size 432x288 with 1 Axes>"
            ],
            "image/png": "[encoded data removed]"
          },
          "metadata": {
            "needs_background": "light"
          }
        }
      ]
    },
    {
      "cell_type": "markdown",
      "source": [
        "Task - 2: Dataset Generator"
      ],
      "metadata": {
        "id": "sC8CDbTjTGks"
      }
    },
    {
      "cell_type": "code",
      "source": [
        "# For training & testing the dataset\n",
        "def generate_data(x, y, batch_size: 32):\n",
        "  num_examples = len(y) # total number of examples = length of labels/examples\n",
        "\n",
        "  # For generator\n",
        "  while True: \n",
        "    x_batch = np.zeros((batch_size, 28, 28, 3))\n",
        "    y_batch = np.zeros((batch_size,)) # y ranges 0-9\n",
        "    c_batch = np.zeros((batch_size,)) # c ranges 0-1 (Red/Green)\n",
        "\n",
        "    for i in range(0, batch_size):\n",
        "      "
      ],
      "metadata": {
        "id": "DtX7wdg8TKKd"
      },
      "execution_count": null,
      "outputs": []
    }
  ]
}