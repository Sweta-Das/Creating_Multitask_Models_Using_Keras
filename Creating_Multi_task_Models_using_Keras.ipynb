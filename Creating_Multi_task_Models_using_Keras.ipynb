{
  "nbformat": 4,
  "nbformat_minor": 0,
  "metadata": {
    "colab": {
      "provenance": [],
      "authorship_tag": "ABX9TyN3T6z6u4CJnGl82RG6iW2L",
      "include_colab_link": true
    },
    "kernelspec": {
      "name": "python3",
      "display_name": "Python 3"
    },
    "language_info": {
      "name": "python"
    }
  },
  "cells": [
    {
      "cell_type": "markdown",
      "metadata": {
        "id": "view-in-github",
        "colab_type": "text"
      },
      "source": [
        "<a href=\"https://colab.research.google.com/github/Sweta-Das/Creating_Multitask_Models_Using_Keras/blob/main/Creating_Multi_task_Models_using_Keras.ipynb\" target=\"_parent\"><img src=\"https://colab.research.google.com/assets/colab-badge.svg\" alt=\"Open In Colab\"/></a>"
      ]
    },
    {
      "cell_type": "markdown",
      "source": [
        "# Creating Multi-task Models using Keras\n"
      ],
      "metadata": {
        "id": "AGk6B8841iJy"
      }
    },
    {
      "cell_type": "code",
      "source": [
        "%matplotlib inline\n",
        "%load_ext tensorboard\n",
        "\n",
        "import tensorflow as tf\n",
        "import numpy as np\n",
        "import matplotlib.pyplot as plt\n",
        "import shutil # Shutil = Shell Utilities; Higher level file operations\n",
        "\n",
        "# Exception Handling\n",
        "\n",
        "try:\n",
        "  shutil.rmtree('logs')\n",
        "except:\n",
        "  pass"
      ],
      "metadata": {
        "id": "undszboc1tgV"
      },
      "execution_count": 1,
      "outputs": []
    },
    {
      "cell_type": "markdown",
      "source": [
        "  shutil.rmtree() => deletes an entire directory tree; <br/>\n",
        "  Syntax: shutil.rmtree(path, ignore_errors=False, onerror=None)<br/>\n",
        "  <br/>\n",
        "  path => points to a dir. <br/>\n",
        "  If ignore_errors=True, errors due to failed removals will be ignored. If ignore_errors=False, errors are handled by handler specified<br/>\n",
        "  by onerror, or if omitted, it raises an exception."
      ],
      "metadata": {
        "id": "ZICux6pHFKdi"
      }
    },
    {
      "cell_type": "markdown",
      "source": [
        "### Task - 1: Creating a dataset"
      ],
      "metadata": {
        "id": "mQNsot8J5Jse"
      }
    },
    {
      "cell_type": "code",
      "source": [
        "# Using Keras Dataset to download MNIST dataset\n",
        "(x_train, y_train), (x_test, y_test) = tf.keras.datasets.mnist.load_data()"
      ],
      "metadata": {
        "colab": {
          "base_uri": "https://localhost:8080/"
        },
        "id": "tYq4r2Po5PL5",
        "outputId": "b0bb709b-1116-43b0-d5f3-c5f3909bf9dc"
      },
      "execution_count": 2,
      "outputs": [
        {
          "output_type": "stream",
          "name": "stdout",
          "text": [
            "Downloading data from https://storage.googleapis.com/tensorflow/tf-keras-datasets/mnist.npz\n",
            "11490434/11490434 [==============================] - 0s 0us/step\n"
          ]
        }
      ]
    },
    {
      "cell_type": "code",
      "source": [
        "# print(x_test)"
      ],
      "metadata": {
        "id": "5iHZO_qPK5TM"
      },
      "execution_count": null,
      "outputs": []
    },
    {
      "cell_type": "markdown",
      "source": [
        "We are not going to use MNIST dataset directly, we're going to synthesize new dataset from it."
      ],
      "metadata": {
        "id": "Xp4hlck_OQbI"
      }
    },
    {
      "cell_type": "code",
      "source": [
        "def create_example(x, y):  # here, x= image of mnist dataset; y=label of mnist dataset\n",
        "  c = np.random.randint(0, 2) # randomly assign random int either c = 0 or 1\n",
        "\n",
        "  # Assigning colored label to mnist dataset\n",
        "  image = 0.5 * np.random.rand(28, 28, 3) # for colored label, 28*28 = dim of each instance in mnist dataset & 3 signify RGB color\n",
        "  image[:, :, c] += 0.5 * x / 255.  # This'll show mnist example value only for Red & Green color. The calculation will normalize the value of instance to 0 or 1.\n",
        "  return image, y, c"
      ],
      "metadata": {
        "id": "py6mge8rOaMX"
      },
      "execution_count": 8,
      "outputs": []
    },
    {
      "cell_type": "code",
      "source": [
        "# Dictionary to keep track of color labels\n",
        "colors = {0: 'red', 1: 'green'}\n",
        "\n",
        "x, y, c = create_example(x_train[2], y_train[9])\n",
        "print(f'digit: {y}, color: {colors[c]}') # displaying digit with its color\n",
        "\n",
        "# Plotting image\n",
        "plt.imshow(x)\n",
        "plt.show()"
      ],
      "metadata": {
        "colab": {
          "base_uri": "https://localhost:8080/",
          "height": 447
        },
        "id": "Ztjq6lbkOnlJ",
        "outputId": "1d920c86-bed4-44b7-9e33-30473ddfeae4"
      },
      "execution_count": 12,
      "outputs": [
        {
          "output_type": "stream",
          "name": "stdout",
          "text": [
            "digit: 4, color: green\n"
          ]
        },
        {
          "output_type": "display_data",
          "data": {
            "text/plain": [
              "<Figure size 640x480 with 1 Axes>"
            ],
            "image/png": "[encoded data removed]"
          },
          "metadata": {}
        }
      ]
    },
    {
      "cell_type": "markdown",
      "source": [
        "### Task - 2: Dataset Generator"
      ],
      "metadata": {
        "id": "sC8CDbTjTGks"
      }
    },
    {
      "cell_type": "code",
      "source": [
        "# For training & testing the dataset\n",
        "def generate_data(x, y, batch_size= 32):\n",
        "\n",
        "  # total number of examples = length of labels/examples\n",
        "  num_examples = len(y)\n",
        "\n",
        "  # For generator\n",
        "  while True:\n",
        "\n",
        "    # Input\n",
        "    x_batch = np.zeros((batch_size, 28, 28, 3))\n",
        "\n",
        "    # Output (0-9)\n",
        "    y_batch = np.zeros((batch_size,)) # y ranges 0-9\n",
        "\n",
        "    # Color (0 : 'red', 1 : 'Green')\n",
        "    c_batch = np.zeros((batch_size,))\n",
        "\n",
        "    # Generating examples to populate x_batch, y_batch & c_batch\n",
        "    for i in range(0, batch_size):\n",
        "\n",
        "      # Picking some random examples & passing it to create_example()\n",
        "      index = np.random.randint(0, num_examples)\n",
        "      image, digit, color = create_example(x[index], y[index])\n",
        "\n",
        "      # Collecting new examples into batches\n",
        "      x_batch[i] = image\n",
        "      y_batch[i] = digit\n",
        "      c_batch[i] = color\n",
        "\n",
        "    # Return input, output & color\n",
        "    yield x_batch, [y_batch, c_batch]"
      ],
      "metadata": {
        "id": "DtX7wdg8TKKd"
      },
      "execution_count": 13,
      "outputs": []
    },
    {
      "cell_type": "markdown",
      "source": [
        "NOTE: Since, the x_batch, [y_batch, c_batch] are in tensor. The yield at the end of the program doesn't mean appended list for y_batch, & c_batch but, rather it means that y_batch in its entirety is the 1st element. And c_batch in its entirety is the 2nd one."
      ],
      "metadata": {
        "id": "TRBJRnStOtnR"
      }
    },
    {
      "cell_type": "code",
      "source": [
        "x, [y, c] = next(generate_data(x_test, y_test, batch_size= 1))"
      ],
      "metadata": {
        "id": "iZIlAdz8PrWQ"
      },
      "execution_count": 15,
      "outputs": []
    },
    {
      "cell_type": "code",
      "source": [
        "print(y, c)\n",
        "plt.imshow(x[0]);"
      ],
      "metadata": {
        "colab": {
          "base_uri": "https://localhost:8080/",
          "height": 447
        },
        "id": "HDXU5yrWP1wN",
        "outputId": "75bcfe62-5396-47a2-8c6d-4ddbeeb4fb05"
      },
      "execution_count": 16,
      "outputs": [
        {
          "output_type": "stream",
          "name": "stdout",
          "text": [
            "[5.] [1.]\n"
          ]
        },
        {
          "output_type": "display_data",
          "data": {
            "text/plain": [
              "<Figure size 640x480 with 1 Axes>"
            ],
            "image/png": "[encoded data removed]"
          },
          "metadata": {}
        }
      ]
    },
    {
      "cell_type": "markdown",
      "source": [
        "### Task-3: Create Model"
      ],
      "metadata": {
        "id": "T6VUsSg9Qui9"
      }
    },
    {
      "cell_type": "code",
      "source": [],
      "metadata": {
        "id": "X36s9EnLQ0CI"
      },
      "execution_count": null,
      "outputs": []
    }
  ]
}