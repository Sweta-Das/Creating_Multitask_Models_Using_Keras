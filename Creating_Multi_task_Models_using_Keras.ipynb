{
  "nbformat": 4,
  "nbformat_minor": 0,
  "metadata": {
    "colab": {
      "provenance": [],
      "authorship_tag": "ABX9TyOG2SwCpftmrpdbZY7JoJWj",
      "include_colab_link": true
    },
    "kernelspec": {
      "name": "python3",
      "display_name": "Python 3"
    },
    "language_info": {
      "name": "python"
    }
  },
  "cells": [
    {
      "cell_type": "markdown",
      "metadata": {
        "id": "view-in-github",
        "colab_type": "text"
      },
      "source": [
        "<a href=\"https://colab.research.google.com/github/Sweta-Das/Creating_Multitask_Models_Using_Keras/blob/main/Creating_Multi_task_Models_using_Keras.ipynb\" target=\"_parent\"><img src=\"https://colab.research.google.com/assets/colab-badge.svg\" alt=\"Open In Colab\"/></a>"
      ]
    },
    {
      "cell_type": "markdown",
      "source": [
        "# Creating Multi-task Models using Keras\n"
      ],
      "metadata": {
        "id": "AGk6B8841iJy"
      }
    },
    {
      "cell_type": "code",
      "source": [
        "%matplotlib inline\n",
        "%load_ext tensorboard\n",
        "\n",
        "import tensorflow as tf\n",
        "import numpy as np\n",
        "import matplotlib.pyplot as plt\n",
        "import shutil # Shutil = Shell Utilities; Higher level file operations\n",
        "\n",
        "# Exception Handling\n",
        "\n",
        "try:\n",
        "  shutil.rmtree('logs')\n",
        "except:\n",
        "  pass"
      ],
      "metadata": {
        "id": "undszboc1tgV"
      },
      "execution_count": 1,
      "outputs": []
    },
    {
      "cell_type": "markdown",
      "source": [
        "  shutil.rmtree() => deletes an entire directory tree; <br/>\n",
        "  Syntax: shutil.rmtree(path, ignore_errors=False, onerror=None)<br/>\n",
        "  <br/>\n",
        "  path => points to a dir. <br/>\n",
        "  If ignore_errors=True, errors due to failed removals will be ignored. If ignore_errors=False, errors are handled by handler specified<br/>\n",
        "  by onerror, or if omitted, it raises an exception."
      ],
      "metadata": {
        "id": "ZICux6pHFKdi"
      }
    },
    {
      "cell_type": "markdown",
      "source": [
        "### Task - 1: Creating a dataset"
      ],
      "metadata": {
        "id": "mQNsot8J5Jse"
      }
    },
    {
      "cell_type": "code",
      "source": [
        "# Using Keras Dataset to download MNIST dataset\n",
        "(x_train, y_train), (x_test, y_test) = tf.keras.datasets.mnist.load_data()"
      ],
      "metadata": {
        "colab": {
          "base_uri": "https://localhost:8080/"
        },
        "id": "tYq4r2Po5PL5",
        "outputId": "b0bb709b-1116-43b0-d5f3-c5f3909bf9dc"
      },
      "execution_count": 2,
      "outputs": [
        {
          "output_type": "stream",
          "name": "stdout",
          "text": [
            "Downloading data from https://storage.googleapis.com/tensorflow/tf-keras-datasets/mnist.npz\n",
            "11490434/11490434 [==============================] - 0s 0us/step\n"
          ]
        }
      ]
    },
    {
      "cell_type": "code",
      "source": [
        "# print(x_test)"
      ],
      "metadata": {
        "id": "5iHZO_qPK5TM"
      },
      "execution_count": null,
      "outputs": []
    },
    {
      "cell_type": "markdown",
      "source": [
        "We are not going to use MNIST dataset directly, we're going to synthesize new dataset from it."
      ],
      "metadata": {
        "id": "Xp4hlck_OQbI"
      }
    },
    {
      "cell_type": "code",
      "source": [
        "def create_example(x, y):  # here, x= image of mnist dataset; y=label of mnist dataset\n",
        "  c = np.random.randint(0, 2) # randomly assign random int either c = 0 or 1\n",
        "\n",
        "  # Assigning colored label to mnist dataset\n",
        "  image = 0.5 * np.random.rand(28, 28, 3) # for colored label, 28*28 = dim of each instance in mnist dataset & 3 signify RGB color\n",
        "  image[:, :, c] += 0.5 * x / 255.  # This'll show mnist example value only for Red & Green color. The calculation will normalize the value of instance to 0 or 1.\n",
        "  return image, y, c"
      ],
      "metadata": {
        "id": "py6mge8rOaMX"
      },
      "execution_count": 8,
      "outputs": []
    },
    {
      "cell_type": "code",
      "source": [
        "# Dictionary to keep track of color labels\n",
        "colors = {0: 'red', 1: 'green'}\n",
        "\n",
        "x, y, c = create_example(x_train[2], y_train[9])\n",
        "print(f'digit: {y}, color: {colors[c]}') # displaying digit with its color\n",
        "\n",
        "# Plotting image\n",
        "plt.imshow(x)\n",
        "plt.show()"
      ],
      "metadata": {
        "colab": {
          "base_uri": "https://localhost:8080/",
          "height": 447
        },
        "id": "Ztjq6lbkOnlJ",
        "outputId": "1d920c86-bed4-44b7-9e33-30473ddfeae4"
      },
      "execution_count": 12,
      "outputs": [
        {
          "output_type": "stream",
          "name": "stdout",
          "text": [
            "digit: 4, color: green\n"
          ]
        },
        {
          "output_type": "display_data",
          "data": {
            "text/plain": [
              "<Figure size 640x480 with 1 Axes>"
            ],
            "image/png": "[encoded data removed]"
          },
          "metadata": {}
        }
      ]
    },
    {
      "cell_type": "markdown",
      "source": [
        "### Task - 2: Dataset Generator"
      ],
      "metadata": {
        "id": "sC8CDbTjTGks"
      }
    },
    {
      "cell_type": "code",
      "source": [
        "# For training & testing the dataset\n",
        "def generate_data(x, y, batch_size= 32):\n",
        "\n",
        "  # total number of examples = length of labels/examples\n",
        "  num_examples = len(y)\n",
        "\n",
        "  # For generator\n",
        "  while True:\n",
        "\n",
        "    # Input\n",
        "    x_batch = np.zeros((batch_size, 28, 28, 3))\n",
        "\n",
        "    # Output (0-9)\n",
        "    y_batch = np.zeros((batch_size,)) # y ranges 0-9\n",
        "\n",
        "    # Color (0 : 'red', 1 : 'Green')\n",
        "    c_batch = np.zeros((batch_size,))\n",
        "\n",
        "    # Generating examples to populate x_batch, y_batch & c_batch\n",
        "    for i in range(0, batch_size):\n",
        "\n",
        "      # Picking some random examples & passing it to create_example()\n",
        "      index = np.random.randint(0, num_examples)\n",
        "      image, digit, color = create_example(x[index], y[index])\n",
        "\n",
        "      # Collecting new examples into batches\n",
        "      x_batch[i] = image\n",
        "      y_batch[i] = digit\n",
        "      c_batch[i] = color\n",
        "\n",
        "    # Return input, output & color\n",
        "    yield x_batch, [y_batch, c_batch]"
      ],
      "metadata": {
        "id": "DtX7wdg8TKKd"
      },
      "execution_count": 13,
      "outputs": []
    },
    {
      "cell_type": "markdown",
      "source": [
        "NOTE: Since, the x_batch, [y_batch, c_batch] are in tensor. The yield at the end of the program doesn't mean appended list for y_batch, & c_batch but, rather it means that y_batch in its entirety is the 1st element. And c_batch in its entirety is the 2nd one."
      ],
      "metadata": {
        "id": "TRBJRnStOtnR"
      }
    },
    {
      "cell_type": "code",
      "source": [
        "x, [y, c] = next(generate_data(x_test, y_test, batch_size= 1))"
      ],
      "metadata": {
        "id": "iZIlAdz8PrWQ"
      },
      "execution_count": 15,
      "outputs": []
    },
    {
      "cell_type": "code",
      "source": [
        "print(y, c)\n",
        "plt.imshow(x[0]);"
      ],
      "metadata": {
        "colab": {
          "base_uri": "https://localhost:8080/",
          "height": 447
        },
        "id": "HDXU5yrWP1wN",
        "outputId": "75bcfe62-5396-47a2-8c6d-4ddbeeb4fb05"
      },
      "execution_count": 16,
      "outputs": [
        {
          "output_type": "stream",
          "name": "stdout",
          "text": [
            "[5.] [1.]\n"
          ]
        },
        {
          "output_type": "display_data",
          "data": {
            "text/plain": [
              "<Figure size 640x480 with 1 Axes>"
            ],
            "image/png": "[encoded data removed]"
          },
          "metadata": {}
        }
      ]
    },
    {
      "cell_type": "markdown",
      "source": [
        "The output show the digit predicted and the color code for green."
      ],
      "metadata": {
        "id": "WDt1R9KARVHo"
      }
    },
    {
      "cell_type": "markdown",
      "source": [
        "### Task-3: Create Model"
      ],
      "metadata": {
        "id": "T6VUsSg9Qui9"
      }
    },
    {
      "cell_type": "code",
      "source": [
        "# Importing Keras layers\n",
        "from tensorflow.keras.layers import Input, Conv2D, Activation, MaxPool2D, Flatten, Add, Dense\n",
        "\n",
        "# Creating an input tensor\n",
        "input_ = Input(shape= (28, 28, 3), name= 'input')"
      ],
      "metadata": {
        "id": "X36s9EnLQ0CI"
      },
      "execution_count": 19,
      "outputs": []
    },
    {
      "cell_type": "markdown",
      "source": [
        "Input Layer in Keras = 1st layer of CNN; responsible for receiving & processing the input data that will be fed to the model<br/>\n",
        "<br/>\n",
        "Convolution Layer = convolution means converting all the pixels in its receptive field into a single value. 2D convolution means the filter in conv. layer slides over 2D input data, performing an elementwise multiplication so that, it'll sum up the results into a single o/p pixel.<br/>\n",
        "<br/>\n",
        "Activation Layer (function) = It decides whether a neuron should be activated or not by calculating the weighted sum & adding bias to it. It's used to introduce non-linearity into the neuron o/p.<br/>\n",
        "<br/>\n",
        "Max Pooling = Used to select the max element from the region of the feature map covered by the filter\n",
        "<br/>\n",
        "Max Pooling 2D downsamples the i/p along its spatial dim (height & width) by taking max value over an i/p window (of size defined by pool size) for each i/p channel.<br/>\n",
        "<br/>\n",
        "Flatten = converting multi-dimensional data into a 1D array for sending it as an i/p to the next layer. <br/>\n",
        "<br/>\n",
        "Add() = adds a list of inputs. It takes a list of tensors as input, all the same shape, & returns a single tensor.<br/>\n",
        "<br/>\n",
        "Dense() = deeply connets the neurons in CNN i.e., every neuron in the dense layer takes i/p from all other neurons of previous layer."
      ],
      "metadata": {
        "id": "V_9wRIrA-E4L"
      }
    },
    {
      "cell_type": "markdown",
      "source": [
        "1st Output of Model"
      ],
      "metadata": {
        "id": "MgLE90oWYSJ1"
      }
    },
    {
      "cell_type": "code",
      "source": [
        "# 1st output of model\n",
        "\n",
        "# convolution layer-1; that takes input_ for 1st convulsion\n",
        "conv_1 = Conv2D(32, 3, name= 'conv_1')(input_)\n",
        "\n",
        "# Activation layer-1; that takes output of conv_1\n",
        "act_1 = Activation('relu', name= 'act_1')(conv_1)\n",
        "\n",
        "# Pooling Layer-1\n",
        "pool_1 = MaxPool2D(4, name= 'pool_1')(act_1)\n",
        "\n",
        "# Output of pooling layer is flattened\n",
        "flat_1 = Flatten(name= 'flat_1')(pool_1)\n",
        "\n",
        "# Dense Output layer; Collecting output of flatten to predict color\n",
        "color = Dense(1, activation = 'sigmoid', name= 'color')(flat_1)"
      ],
      "metadata": {
        "id": "WU2XGMpkU6wz"
      },
      "execution_count": 20,
      "outputs": []
    },
    {
      "cell_type": "markdown",
      "source": [
        "2nd output of model"
      ],
      "metadata": {
        "id": "hwsb2MugYWby"
      }
    },
    {
      "cell_type": "code",
      "source": [
        "# 2nd output of model\n",
        "\n",
        "# Convolution layer-2; takes act_1 as input\n",
        "conv_2 = Conv2D(32, 3, padding= 'same', name= 'conv_2')(act_1)\n",
        "\n",
        "# Activation layer-2\n",
        "act_2 = Activation('relu', name= 'act_2')(conv_2)"
      ],
      "metadata": {
        "id": "9XeqeGLBU8R7"
      },
      "execution_count": 21,
      "outputs": []
    },
    {
      "cell_type": "markdown",
      "source": [
        "We saw in previous code that Activation layer-1 is also the input of Pooling Layer-1. It's different than being the input of Convolution Layer-2 because pooling layer is a separate branch. It branches off to predict for color in the 1st output of the model."
      ],
      "metadata": {
        "id": "cLr1ahZPVbtl"
      }
    },
    {
      "cell_type": "code",
      "source": [
        "# Convolution layer-3\n",
        "conv_3 = Conv2D(32, 3, padding= 'same', name= 'conv_3')(act_2)\n",
        "\n",
        "# Adding Layers; helps to skip connections\n",
        "add = Add(name = 'add')([act_1, conv_3])\n",
        "\n",
        "# Activation layer-3\n",
        "act_3 = Activation('relu', name= 'act_3')(add)\n",
        "\n",
        "# Pooling Layer - 2\n",
        "pool_2 = MaxPool2D(4, name='pool_2')(act_3)\n",
        "flat_2 = Flatten(name = 'flat_2')(pool_2)\n",
        "\n",
        "digit = Dense(10, activation= 'softmax', name= 'digit')(flat_2)"
      ],
      "metadata": {
        "id": "bpTakKAYWEjm"
      },
      "execution_count": 22,
      "outputs": []
    },
    {
      "cell_type": "markdown",
      "source": [
        "Skip Connections (Shortcut Connections) skips some of the layers in the neural network and feeds the output of one layer as the input to the next layers (Here, 1st layer o/p to 3rd layer conv). It's good for deep neural networks but, not very useful in shallow networks."
      ],
      "metadata": {
        "id": "wcoAZWHlXUlx"
      }
    },
    {
      "cell_type": "code",
      "source": [
        "# Creating the model\n",
        "model = tf.keras.models.Model(input_, [digit, color])\n",
        "\n",
        "# Losses for different outputs\n",
        "model.compile(\n",
        "    # dictionary with keys as different outputs & values as losses of those outputs\n",
        "    loss = {\n",
        "      'digit': 'sparse_categorical_crossentropy',\n",
        "      'color': 'binary_crossentropy'\n",
        "    },\n",
        "    optimizer = 'adam',\n",
        "    metrics = ['accuracy']\n",
        ")\n",
        "model.summary()"
      ],
      "metadata": {
        "colab": {
          "base_uri": "https://localhost:8080/"
        },
        "id": "hi-EqLh3Y3b4",
        "outputId": "a292c5e6-58e5-4234-da37-b5865bab22bd"
      },
      "execution_count": 25,
      "outputs": [
        {
          "output_type": "stream",
          "name": "stdout",
          "text": [
            "Model: \"model_1\"\n",
            "__________________________________________________________________________________________________\n",
            " Layer (type)                   Output Shape         Param #     Connected to                     \n",
            "==================================================================================================\n",
            " input (InputLayer)             [(None, 28, 28, 3)]  0           []                               \n",
            "                                                                                                  \n",
            " conv_1 (Conv2D)                (None, 26, 26, 32)   896         ['input[0][0]']                  \n",
            "                                                                                                  \n",
            " act_1 (Activation)             (None, 26, 26, 32)   0           ['conv_1[0][0]']                 \n",
            "                                                                                                  \n",
            " conv_2 (Conv2D)                (None, 26, 26, 32)   9248        ['act_1[0][0]']                  \n",
            "                                                                                                  \n",
            " act_2 (Activation)             (None, 26, 26, 32)   0           ['conv_2[0][0]']                 \n",
            "                                                                                                  \n",
            " conv_3 (Conv2D)                (None, 26, 26, 32)   9248        ['act_2[0][0]']                  \n",
            "                                                                                                  \n",
            " add (Add)                      (None, 26, 26, 32)   0           ['act_1[0][0]',                  \n",
            "                                                                  'conv_3[0][0]']                 \n",
            "                                                                                                  \n",
            " act_3 (Activation)             (None, 26, 26, 32)   0           ['add[0][0]']                    \n",
            "                                                                                                  \n",
            " pool_2 (MaxPooling2D)          (None, 6, 6, 32)     0           ['act_3[0][0]']                  \n",
            "                                                                                                  \n",
            " pool_1 (MaxPooling2D)          (None, 6, 6, 32)     0           ['act_1[0][0]']                  \n",
            "                                                                                                  \n",
            " flat_2 (Flatten)               (None, 1152)         0           ['pool_2[0][0]']                 \n",
            "                                                                                                  \n",
            " flat_1 (Flatten)               (None, 1152)         0           ['pool_1[0][0]']                 \n",
            "                                                                                                  \n",
            " digit (Dense)                  (None, 10)           11530       ['flat_2[0][0]']                 \n",
            "                                                                                                  \n",
            " color (Dense)                  (None, 1)            1153        ['flat_1[0][0]']                 \n",
            "                                                                                                  \n",
            "==================================================================================================\n",
            "Total params: 32,075\n",
            "Trainable params: 32,075\n",
            "Non-trainable params: 0\n",
            "__________________________________________________________________________________________________\n"
          ]
        }
      ]
    },
    {
      "cell_type": "markdown",
      "source": [
        "Since, we've 2 outputs (digit & color), we can use and check for different loss functions."
      ],
      "metadata": {
        "id": "yx9EVhfwZMSx"
      }
    },
    {
      "cell_type": "markdown",
      "source": [
        "Plotting Model Architecture"
      ],
      "metadata": {
        "id": "y8DwTLpHbDVn"
      }
    },
    {
      "cell_type": "code",
      "source": [
        "tf.keras.utils.plot_model(model)"
      ],
      "metadata": {
        "colab": {
          "base_uri": "https://localhost:8080/",
          "height": 1000
        },
        "id": "j5PbMhATbGif",
        "outputId": "4ad61daa-2e78-45d0-8bc2-189bf9ac2008"
      },
      "execution_count": 26,
      "outputs": [
        {
          "output_type": "execute_result",
          "data": {
            "image/png": "[encoded data removed]",
            "text/plain": [
              "<IPython.core.display.Image object>"
            ]
          },
          "metadata": {},
          "execution_count": 26
        }
      ]
    },
    {
      "cell_type": "markdown",
      "source": [
        "Task-4: Training the Model"
      ],
      "metadata": {
        "id": "Q2ZYUen17mfL"
      }
    }
  ]
}